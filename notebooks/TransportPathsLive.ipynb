{
 "cells": [
  {
   "cell_type": "markdown",
   "id": "ebe49071-1515-4faa-9a25-3923c78d75e6",
   "metadata": {},
   "source": [
    "# Setup"
   ]
  },
  {
   "cell_type": "code",
   "execution_count": null,
   "id": "419c030f-b13e-409c-90b8-9de9cab711d6",
   "metadata": {},
   "outputs": [],
   "source": [
    "import matplotlib.pyplot as plt\n",
    "import numpy as np\n",
    "import tqdm.auto as tqdm\n",
    "import torch\n",
    "%matplotlib widget"
   ]
  },
  {
   "cell_type": "code",
   "execution_count": null,
   "id": "00d30e68-b153-4bda-a332-0935bc0330b5",
   "metadata": {},
   "outputs": [],
   "source": [
    "def grab(x: torch.Tensor) -> np.ndarray:\n",
    "    \"\"\"Convert a torch Tensor to numpy array\"\"\"\n",
    "    return x.detach().numpy()"
   ]
  },
  {
   "cell_type": "code",
   "execution_count": null,
   "id": "c1557c06-83fd-415b-acfb-a7857e4edb0f",
   "metadata": {},
   "outputs": [],
   "source": [
    "def wrap(x):\n",
    "    \"\"\"Wrap angle into range [-pi, pi]\"\"\"\n",
    "    return (x + np.pi) % (2*np.pi) - np.pi"
   ]
  },
  {
   "cell_type": "markdown",
   "id": "c4feca44-c63a-4ea1-a6d0-19cbb3f6ff28",
   "metadata": {},
   "source": [
    "# Action\n",
    "We will consider a simple family of theories on a space of two angles $(\\theta_1, \\theta_2)$. The general form of the action is\n",
    "$$\n",
    "S(\\theta_1, \\theta_2; \\alpha, \\beta) := -\\beta \\cos(\\theta_1 - \\theta_2) - \\alpha \\cos(\\theta_1) + \\alpha \\cos(\\theta_2)\n",
    "$$"
   ]
  },
  {
   "cell_type": "code",
   "execution_count": null,
   "id": "6f5c413d-7558-463f-a61b-68d9b6ed4616",
   "metadata": {},
   "outputs": [],
   "source": [
    "def action(th, *, alpha, beta):\n",
    "    \"\"\"family of actions on two angles\"\"\"\n",
    "    assert th.shape[-1] == 2\n",
    "    th1, th2 = th[...,0] ,th[...,1]\n",
    "    return (\n",
    "        -beta * torch.cos(th1 - th2) - alpha * torch.cos(th1)\n",
    "        + alpha * torch.cos(th2)\n",
    "    )\n",
    "\n",
    "def make_action(alpha, beta):\n",
    "    return lambda th: action(th, alpha=alpha, beta=beta)\n",
    "\n",
    "# some target parameters\n",
    "beta_target = 3.0\n",
    "alpha_target = 1.0\n",
    "target_action = make_action(alpha_target, beta_target)"
   ]
  },
  {
   "cell_type": "markdown",
   "id": "7246fcf7-dd45-40fe-a11c-cb7577e5d3f2",
   "metadata": {},
   "source": [
    "It will be useful to have samples from the target distribution. There are many possible way to build this ensemble, here we just do a crude importance sampling with a single resampling step according to computed weights."
   ]
  },
  {
   "cell_type": "code",
   "execution_count": null,
   "id": "2599c563-ab51-4a93-b183-ca002f0efce4",
   "metadata": {},
   "outputs": [],
   "source": [
    "def sample_inds(weights):\n",
    "    \"\"\"resample indices according to weights\"\"\"\n",
    "    p = np.copy(weights)\n",
    "    p /= np.sum(p)\n",
    "    return np.random.choice(len(weights), p=p, size=len(weights))\n",
    "\n",
    "def sample(batch_size, action, *, beta0):\n",
    "    \"\"\"importance sampling to get ground truth data\"\"\"\n",
    "    shape = (batch_size,)\n",
    "    dist = torch.distributions.VonMises(0.0, beta0)\n",
    "    delta = dist.sample(shape)\n",
    "    S0 = dist.log_prob(delta)\n",
    "    th1 = 2*np.pi*torch.rand(size=shape)\n",
    "    th2 = (th1 - delta) % (2*np.pi)\n",
    "    th = torch.stack([th1, th2], axis=-1)\n",
    "    logw = -action(th) + S0\n",
    "    logw -= torch.logsumexp(logw, dim=0)\n",
    "    weight = np.exp(grab(logw))\n",
    "    # resample\n",
    "    inds = sample_inds(weight)\n",
    "    return th[inds]"
   ]
  },
  {
   "cell_type": "markdown",
   "id": "3271053c-564b-4d5c-a607-24e8fa800cc3",
   "metadata": {},
   "source": [
    "**EXERCISE:** Implement a more principled sampling function, like MCMC, rejection sampling, or inverse CDF sampling."
   ]
  },
  {
   "cell_type": "markdown",
   "id": "07acb7f6-9c01-4dd5-a330-4858c2ca0b75",
   "metadata": {},
   "source": [
    "Set up some utilities to plot distributions of samples or analytic action over the two-dimensional plane of angles."
   ]
  },
  {
   "cell_type": "code",
   "execution_count": null,
   "id": "48750651-ff72-4adc-84ef-917687944e7f",
   "metadata": {},
   "outputs": [],
   "source": [
    "def make_th_grid(steps):\n",
    "    th = torch.linspace(-np.pi, np.pi, steps=steps)\n",
    "    th = (th[1:]+th[:-1])/2\n",
    "    th = torch.stack(torch.meshgrid([th, th], indexing='ij'), axis=-1)\n",
    "    return th\n",
    "def plot_dist(action, *, ax, nsteps=60):\n",
    "    th = make_th_grid(nsteps)\n",
    "    S = action(th)\n",
    "    th = grab(th)\n",
    "    ax.contourf(th[...,0], th[...,1], np.exp(-grab(S)))\n",
    "def plot_samples(th, *, ax, nbins=60):\n",
    "    bins = np.linspace(-np.pi, np.pi, num=nbins+1)\n",
    "    th = wrap(grab(th))\n",
    "    ax.hist2d(th[...,0], th[...,1], bins=bins)"
   ]
  },
  {
   "cell_type": "markdown",
   "id": "49eb85fc-aec6-4567-9826-5ec6f5c83eff",
   "metadata": {},
   "source": [
    "# Action coefficients"
   ]
  },
  {
   "cell_type": "markdown",
   "id": "214e133e-adaa-410e-9779-b27db029e233",
   "metadata": {},
   "source": [
    "For this simple theory, we can expand any action (our target, or intermediate learned actions) in a Fourier basis:\n",
    "$$\n",
    "\\tilde{S}(k_1, k_2) \\sim \\int_0^{2\\pi} \\frac{d\\theta_1}{2\\pi} \\frac{d\\theta_2}{2\\pi} e^{-i k \\cdot \\theta} S(\\theta).\n",
    "$$\n",
    "We can think of these coefficients as some kind of Wilson coefficients in a systematic expansion. It will provide a way to see how we move through the (infinite-dimensional) space of distributions."
   ]
  },
  {
   "cell_type": "code",
   "execution_count": null,
   "id": "d42fbe6a-536e-4f40-9125-ce53e77794da",
   "metadata": {},
   "outputs": [],
   "source": [
    "def measure_coeffs_grid(S):\n",
    "    \"\"\"extract Wilson-like coeffs using the Fourier transform\"\"\"\n",
    "    pass\n",
    "def measure_coeffs(action):\n",
    "    \"\"\"extract Wilson-like coeffs from action function\"\"\"\n",
    "    pass"
   ]
  },
  {
   "cell_type": "markdown",
   "id": "8ea4e268-de82-44c3-964e-b0d2206fec20",
   "metadata": {},
   "source": [
    "# Annealing / trivializing flow\n",
    "Let's first look at the path through the space of distributions described by annealing / the trivializing flow. This is just linear interpolation in the parameters:"
   ]
  },
  {
   "cell_type": "code",
   "execution_count": null,
   "id": "6b99b8ab-940a-4090-9ce0-ec6824d2ae40",
   "metadata": {},
   "outputs": [],
   "source": [
    "# TODO: measure coeffs of target action"
   ]
  },
  {
   "cell_type": "code",
   "execution_count": null,
   "id": "e965f2ab-56b1-43d2-a6f7-3a98ee8b8748",
   "metadata": {},
   "outputs": [],
   "source": [
    "def plot_coeffs(ts, coeffs, x='a1', y='b2', *, ax, cmap, marker='.', label=None):\n",
    "    pass"
   ]
  },
  {
   "cell_type": "markdown",
   "id": "edc69c89-0231-4ac2-bda1-06bf39667e19",
   "metadata": {},
   "source": [
    "# Diffusion"
   ]
  },
  {
   "cell_type": "markdown",
   "id": "36534354-d6bf-4cd8-b7af-99da6c0364de",
   "metadata": {},
   "source": [
    "The diffusion path requires implementing the **Langevin SDE**. We can use a simple Euler-Maruyama integrator, starting from samples from the target distribution to simulate the forward process."
   ]
  },
  {
   "cell_type": "code",
   "execution_count": null,
   "id": "049823fc-f8d4-4203-b8d3-4831f2832ce2",
   "metadata": {},
   "outputs": [],
   "source": [
    "def forward(th, *, g=1.5, nsteps=1000, save_freq=10):\n",
    "    pass"
   ]
  },
  {
   "cell_type": "code",
   "execution_count": null,
   "id": "3fed479d-d5b0-4780-8105-5682a59a6529",
   "metadata": {},
   "outputs": [],
   "source": [
    "# TODO: forward from samples, measure coeffs"
   ]
  },
  {
   "cell_type": "markdown",
   "id": "271f4ed5-4e70-49dd-9af9-085b99c0d983",
   "metadata": {},
   "source": [
    "As the forward process proceeds, **noise is added** until we converge towards the **uniform distribution**."
   ]
  },
  {
   "cell_type": "code",
   "execution_count": null,
   "id": "820197c8-8d57-4c8d-b1b2-52601fa82ab1",
   "metadata": {},
   "outputs": [],
   "source": [
    "fig, axes = plt.subplots(1, 4, figsize=(8, 3), tight_layout=True)\n",
    "inds = [0, 25, 50, 100]\n",
    "# TODO: plot samples"
   ]
  },
  {
   "cell_type": "markdown",
   "id": "7f7257d1-d84b-41b1-81a8-2845d6e95a9d",
   "metadata": {},
   "source": [
    "Compared to the annealing path, diffusion takes a **non-linear path in the space of couplings**. It terminates at (or close to) the uniform distribution with zero couplings."
   ]
  },
  {
   "cell_type": "code",
   "execution_count": null,
   "id": "3265cc44-3218-4f30-b208-0f3b61bfdc58",
   "metadata": {},
   "outputs": [],
   "source": [
    "fig, ax = plt.subplots(1,1, figsize=(3, 3), tight_layout=True)\n",
    "# TODO: plot coeffs"
   ]
  },
  {
   "cell_type": "markdown",
   "id": "7835a0fb-d466-46a1-9d04-28798baa9484",
   "metadata": {},
   "source": [
    "# Normalizing flow"
   ]
  },
  {
   "cell_type": "markdown",
   "id": "21eabc27-4b2e-4c10-91cf-a6f7564b35d7",
   "metadata": {},
   "source": [
    "Finally, we implement a simple **hard-coded flow** (no machine learning yet!). To evaluate the flow, we just use a simple Euler integrator. The coefficients of the flow are arbitrarily tuned to approximately reproduce the target distribution."
   ]
  },
  {
   "cell_type": "code",
   "execution_count": null,
   "id": "d2f04b9e-8c6b-45ce-8845-e1585f36482d",
   "metadata": {},
   "outputs": [],
   "source": [
    "def velocity(th, t):\n",
    "    th1, th2 = th[...,0], th[...,1]\n",
    "    return (\n",
    "        5*t*(1-t) * torch.stack([\n",
    "            -torch.sin(th1 - th2), -torch.sin(th2 - th1)], axis=-1)\n",
    "        + t**2 * torch.stack([-torch.sin(th1), torch.sin(th2)], axis=-1)\n",
    "    )\n",
    "def flow(th, nsteps=1000, save_freq=10):\n",
    "    pass"
   ]
  },
  {
   "cell_type": "code",
   "execution_count": null,
   "id": "4ccc5ab6-3f86-4d34-bf0d-3602f2f035de",
   "metadata": {},
   "outputs": [],
   "source": [
    "# TODO: measure coeffs throughout flow"
   ]
  },
  {
   "cell_type": "code",
   "execution_count": null,
   "id": "58a949e8-0454-4226-a294-4e8d6aec6d67",
   "metadata": {},
   "outputs": [],
   "source": [
    "fig, axes = plt.subplots(1, 4, figsize=(8, 3), tight_layout=True)\n",
    "inds = [0, 25, 50, 100]\n",
    "# TODO: plot flow samples"
   ]
  },
  {
   "cell_type": "markdown",
   "id": "9c78ecb9-c25a-45fb-b348-830ba24c27f3",
   "metadata": {},
   "source": [
    "**EXERCISE:** Compute the probability density of the flow by integrating the divergence of the flow field. Compare this against the sample density above."
   ]
  },
  {
   "cell_type": "code",
   "execution_count": null,
   "id": "2ba1f3c5-3a37-4a5b-90fb-d83bc922bd77",
   "metadata": {},
   "outputs": [],
   "source": [
    "fig, ax = plt.subplots(1,1, figsize=(3, 3), tight_layout=True)\n",
    "# TODO: plot coeffs over time"
   ]
  }
 ],
 "metadata": {
  "kernelspec": {
   "display_name": "Python 3 (ipykernel)",
   "language": "python",
   "name": "python3"
  },
  "language_info": {
   "codemirror_mode": {
    "name": "ipython",
    "version": 3
   },
   "file_extension": ".py",
   "mimetype": "text/x-python",
   "name": "python",
   "nbconvert_exporter": "python",
   "pygments_lexer": "ipython3",
   "version": "3.13.3"
  }
 },
 "nbformat": 4,
 "nbformat_minor": 5
}
